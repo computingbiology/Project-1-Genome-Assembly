{
 "cells": [
  {
   "cell_type": "markdown",
   "id": "7da87395",
   "metadata": {},
   "source": [
    "# Project 1: Assembling Genomes"
   ]
  },
  {
   "cell_type": "markdown",
   "id": "a9645da6",
   "metadata": {},
   "source": [
    "\n",
    "   <div class=\"alert alert-block alert-danger\">\n",
    "    <center>Due: <b>Tuesday, 8 February, 4:59pm</b>.</center> \n",
    "   </div>\n",
    "   \n",
    "   <div class=\"alert alert-block alert-warning\">\n",
    "   <center>\n",
    "       <b>Collaboration and Resource Policy</b>\n",
    "    </center>\n",
    "    For this assignment, you are encouraged to work with one other person. Your team must satisfy the constraints mentioned in <a href=\"https://www.dropbox.com/s/g6z2xncwc4jsplp/csbio-class2-inked.pdf?dl=0\">Class 2</a>.\n",
    "    \n",
    "   1. You went to different high schools.\n",
    "   2. You and your partner have different answers to <em>at least one</em> of these questions:\n",
    "       - What country were you born in?\n",
    "       - Have you taken any biology courses at UVA?\n",
    "       - Have you taken cs3102?\n",
    "       - Have you taken cs4102?\n",
    "    \n",
    "We expect most students will have the best learning experience on this assignment by working with a partner, but if you prefer to work alone it is okay to do this assignment on your own.\n",
    "    \n",
    "You are permitted (actually _encouraged_) to discuss these problems with anyone you want, including other students in the class. If you do discuss the specific questions in the assignment with anyone other than your assignment partner and the course staff, though, you should list them in the _External resources used_ section below.\n",
    "    \n",
    "You are welcome to use any resources you want for this assignment, other than ones that would defeat the purpose of the assignment. This means you should not look at answers or code from any other students in the class (other than your collaboration with your partner), and if you find code that implements the problem you are being asked to do for the assignment, you should not use that code. You should document all external resource you use that are not part of the course materials in the _External resources used_ section below."
   ]
  },
  {
   "cell_type": "markdown",
   "id": "14179769",
   "metadata": {},
   "source": [
    "**Team submitting this assignment:**  \n",
    "<div class=\"alert alert-success\">\n",
    "    <b><em>list each member of your team here, including both your name and UVA computing id</em></b>\n",
    "    <ul>\n",
    "        <li>Jacob Hilliard jlh2hb</li>\n",
    "    </ul>\n",
    "</div>\n",
    "\n",
    "**External resources used:** \n",
    "<div class=\"alert alert-success\">\n",
    "<em>It is not necessary to list the course materials, but if you used any other resources, including discussing problems with students not on your team, list them here.</em>\n",
    "</div>"
   ]
  },
  {
   "cell_type": "markdown",
   "id": "57bc46a1",
   "metadata": {},
   "source": [
    "In this project, we will explore genome assembly — the process of determining the order of nucleotides from fragmented reads that are produced by sequencing machines. \n",
    "\n",
    "Genome assembly maps to a very well defined computer science problem, but can get quite complicated, as problems such as full sequence coverage, finding a good length for reads (the $k$ in $k$-mer), and sequencing errors present challenges for sequencing analysis and accuracy. For the required problems (ones everyone is expected to solve), you will be able to assume perfect coverage and no read errors; for the \"challenge\" problem (that is considered a bonus, and not something we expect everyone to be able to solve, and perhaps may not even be feasible for anyone to solve) you will not be able to rely on such assumptions."
   ]
  },
  {
   "cell_type": "markdown",
   "id": "b701651a",
   "metadata": {},
   "source": [
    " <div class=\"alert alert-block alert-warning\">\n",
    "    \n",
    "<b>Submission</b>: You should work on this assignment by forking the provided Project 1 repository (you probably already did this, following the instructions posted at [https://computingbiology.github.io/project1](https://computingbiology.github.io/project1). Add the other teammate to as a collaborator with write access (also under the Settings tab) to this repository.\n",
    "    \n",
    "You should answer the questions and write your code in this Jupyter Notebook. (We don't expect you to need to use any external files or organize your code outside of the notebook, but if you do, make sure to put everything needed to run your code in your repository.) Parts where you are expected to provide and answer (which could be text that can be written in markdown format in the notebook or Python code that runs in the notebook) are marked in green.\n",
    "        \n",
    "When you are ready to submit the assignment, you should create a release of the version you are submitting ([github's directions for how to create a release](https://docs.github.com/en/repositories/releasing-projects-on-github/managing-releases-in-a-repository)) tagged as `submit`. After you've done this, send a message in slack to a channel that includes both team members (so the one sending this message should include the other team member) and all of the course staff (`dave`, `Hyun Jae Cho`, and `Anshuman Suri`) and a link to your repository (feel free to add any other useful comments if you want, but the link to your submission repository is sufficient)."
   ]
  },
  {
   "cell_type": "markdown",
   "id": "6ddc5cc5",
   "metadata": {},
   "source": [
    "## Getting Started"
   ]
  },
  {
   "cell_type": "markdown",
   "id": "65e42801",
   "metadata": {},
   "source": [
    "1. Install basic required packages, should be run only once. You may need to restart the jupyter python kernel (under the Kernel menu) after this. (You can execute this directly in the notebook but running the command below.)"
   ]
  },
  {
   "cell_type": "code",
   "execution_count": 1,
   "id": "9df18fe5",
   "metadata": {},
   "outputs": [
    {
     "name": "stdout",
     "output_type": "stream",
     "text": [
      "Requirement already satisfied: gvmagic in ./venv/lib/python3.6/site-packages (from -r requirements.txt (line 1)) (0.5)\n",
      "Requirement already satisfied: numpy in ./venv/lib/python3.6/site-packages (from -r requirements.txt (line 2)) (1.19.5)\n",
      "Requirement already satisfied: matplotlib in ./venv/lib/python3.6/site-packages (from -r requirements.txt (line 3)) (3.3.4)\n",
      "Requirement already satisfied: pydot in ./venv/lib/python3.6/site-packages (from -r requirements.txt (line 4)) (1.4.2)\n",
      "Requirement already satisfied: cycler>=0.10 in ./venv/lib/python3.6/site-packages (from matplotlib->-r requirements.txt (line 3)) (0.11.0)\n",
      "Requirement already satisfied: pillow>=6.2.0 in ./venv/lib/python3.6/site-packages (from matplotlib->-r requirements.txt (line 3)) (8.4.0)\n",
      "Requirement already satisfied: pyparsing!=2.0.4,!=2.1.2,!=2.1.6,>=2.0.3 in ./venv/lib/python3.6/site-packages (from matplotlib->-r requirements.txt (line 3)) (3.0.7)\n",
      "Requirement already satisfied: python-dateutil>=2.1 in ./venv/lib/python3.6/site-packages (from matplotlib->-r requirements.txt (line 3)) (2.8.2)\n",
      "Requirement already satisfied: kiwisolver>=1.0.1 in ./venv/lib/python3.6/site-packages (from matplotlib->-r requirements.txt (line 3)) (1.3.1)\n",
      "Requirement already satisfied: six>=1.5 in ./venv/lib/python3.6/site-packages (from python-dateutil>=2.1->matplotlib->-r requirements.txt (line 3)) (1.16.0)\n",
      "Note: you may need to restart the kernel to use updated packages.\n"
     ]
    }
   ],
   "source": [
    "%pip install -r requirements.txt"
   ]
  },
  {
   "cell_type": "markdown",
   "id": "68cf7d92",
   "metadata": {},
   "source": [
    "2. Make sure you have [graphviz](https://graphviz.org/) installed on your system. (On a Mac OS X, `brew install graphviz`. For other platforms, see [_https://graphviz.org/download/_](https://graphviz.org/download/).)"
   ]
  },
  {
   "cell_type": "code",
   "execution_count": 2,
   "id": "d39abe1f",
   "metadata": {},
   "outputs": [],
   "source": [
    "import collections\n",
    "import matplotlib.pyplot as plt\n",
    "\n",
    "import utils"
   ]
  },
  {
   "cell_type": "markdown",
   "id": "5554e2bc",
   "metadata": {},
   "source": [
    "## Part 1: Assembling the TeleTubby Genome"
   ]
  },
  {
   "cell_type": "markdown",
   "id": "7985c6cb",
   "metadata": {},
   "source": [
    "For this part, you're given reads generated while trying to sequence the DNA of a mysterious unknown organism with a _tiny_ genome. Some of the course staff is not sure what a TeleTubby is, but I've been assured that no cute creatures were harmed in producing this data (which was generated synthetically).\n",
    "\n",
    "By answering the following questions, you will learn how to assemble the original genome sequence from sequence reads.\n",
    "\n",
    "Sequencing data is often stored in the FASTQ file format, with is a simple ASCII format that is somewhat human-readable. \n",
    "\n",
    "In _TeleTubby.fastq_ (which is included in the repository you forked), you will find the data that was read from the TeleTubby genome. Each four lines of the file repeat the same pattern. For example,\n",
    "```\n",
    "@TeleTubby Genome: Project 1\n",
    "TAAAATGG\n",
    "+\n",
    "HAICDF5I\n",
    "```\n",
    "The first line contains the metadata that encodes the name of the read, the experiment type, the kind of sequencing machine used, etc. \n",
    "\n",
    "The second line is the sequence of bases that was read. \n",
    "\n",
    "The third line is just a placeholder.\n",
    "\n",
    "The fourth line is a sequence of base qualities that encodes the qualities for the corresponding bases in the sequence line. We will discuss and use this for Problem 2."
   ]
  },
  {
   "cell_type": "markdown",
   "id": "744fd5da",
   "metadata": {},
   "source": [
    "Read in the data from `TeleTubby.fastq`:"
   ]
  },
  {
   "cell_type": "code",
   "execution_count": 4,
   "id": "04406782",
   "metadata": {},
   "outputs": [],
   "source": [
    "# Read sequence reads (error-free) from file\n",
    "sequence_reads, qualities = utils.read_fastq('TeleTubby.fastq')"
   ]
  },
  {
   "cell_type": "markdown",
   "id": "69527f9b",
   "metadata": {},
   "source": [
    "### Melting Temperature\n",
    "\n",
    "The GC-content (or the ratio of G and C nucleotides) is related to the melting temperature of a DNA double helix structure. \n",
    "\n",
    "The following equation can be used to estimate the melting temperature (in degrees Celsius) of DNA for a particular sequence:\n",
    "\n",
    "\\begin{equation*}\n",
    "t_m = 64.9+0.41(\\%GC)-\\frac{500}{\\text{length of sequence}}\n",
    "\\end{equation*}\n",
    "\n",
    "As a reference, the human genome is known to have between 35%-60% GC-content. \n",
    "\n",
    "<div class=\"alert alert-success\">\n",
    "\n",
    "**Problem 1.** Calculate the melting temperature for the TeleTubby genome using the formula above. Assume that the sequence is 300 nucleotides long, and that the provided read data has equal coverage everywhere so the G-C distribution in the reads is very close to the actual G-C distribution for the genome. \n",
    "    </div>"
   ]
  },
  {
   "cell_type": "code",
   "execution_count": 5,
   "id": "cd274b8a",
   "metadata": {},
   "outputs": [
    {
     "name": "stdout",
     "output_type": "stream",
     "text": [
      "GC content for the TeleTubby genome: 52.474%\n",
      "Melting temperature for the TeleTubby genome: 63.448 °C\n"
     ]
    }
   ],
   "source": [
    "# Write code here for calculating the %GC content from the sequence_reads, and \n",
    "# computing the estimated melting temperature.\n",
    "def melting_temp(gc_content, n=300):\n",
    "    return 64.9 + (0.41 * gc_content) - (500/n)\n",
    "\n",
    "def gc_content(sequence_reads, n=300):\n",
    "    #coverage = total # of bases in the reads / # of bases in the actual seq (300)\n",
    "    #can then determine actual gc content in the seq by dividing total gc content by the coverage\n",
    "    total_bases = 0\n",
    "    gc_count = 0\n",
    "    for read in sequence_reads:\n",
    "        for base in read:\n",
    "            total_bases+=1\n",
    "            if(base==\"C\" or base==\"G\"): gc_count+=1\n",
    "    \n",
    "    coverage = total_bases / n\n",
    "    gc_content = gc_count / coverage\n",
    "    return gc_content / n\n",
    "\n",
    "tt_gc_content = gc_content(sequence_reads)\n",
    "print(f\"GC content for the TeleTubby genome: {tt_gc_content * 100:.3f}%\")\n",
    "tt_temp = melting_temp(tt_gc_content)\n",
    "print(f\"Melting temperature for the TeleTubby genome: {tt_temp:.3f} °C\")"
   ]
  },
  {
   "cell_type": "code",
   "execution_count": 7,
   "id": "c5cc58d6",
   "metadata": {},
   "outputs": [
    {
     "name": "stdout",
     "output_type": "stream",
     "text": [
      "Melting temperature for TeleTubby genome: 146.2072610921502 °F\n"
     ]
    }
   ],
   "source": [
    "def convert_C_to_F(temp):\n",
    "    #(0°C × 9/5) + 32 = F\n",
    "    return (temp * (9/5)) + 32\n",
    "\n",
    "tt_temp_f = convert_C_to_F(tt_temp)\n",
    "print(f'Melting temperature for TeleTubby genome: {tt_temp_f} °F')"
   ]
  },
  {
   "cell_type": "markdown",
   "id": "72723374",
   "metadata": {},
   "source": [
    "## Interpreting Read Quality"
   ]
  },
  {
   "cell_type": "markdown",
   "id": "e9a67a93",
   "metadata": {},
   "source": [
    "Phred33 quality scores are represented as the character with an ASCII code equal to its value + 33 (to make them easy to print alongside genome sequences). The Phred scores $Q$ are related to error probabilities $P$ as: $Q = -10 \\log_{10}(P)$. The table linked here provides a mapping from the Phred values provided in a fastq file and the $Q$ values: [Quality Score Encoding](https://support.illumina.com/help/BaseSpace_OLH_009008/Content/Source/Informatics/BS/QualityScoreEncoding_swBS.htm) \n",
    "\n",
    "<div class=\"alert alert-success\">\n",
    "    \n",
    "**Problem 2.** Using the Phred scores, identify the _least likely to be correct_ read in the TeleTubby.fastq data, which is the read with the lowest probability that it contains _no_ errors.\n",
    "\n",
    "</div>"
   ]
  },
  {
   "cell_type": "code",
   "execution_count": 13,
   "id": "76758368",
   "metadata": {},
   "outputs": [
    {
     "name": "stdout",
     "output_type": "stream",
     "text": [
      "The worst read in the TeleTubby genome is 'GAGCCACC'.\n"
     ]
    }
   ],
   "source": [
    "# Write your code for Problem 2 here. \n",
    "# It should output the read (nucleotide sequence) with the lowest probability of containing no errors.\n",
    "\n",
    "#if 100% of error, then Q score = 0; therefore, higher Q score = more accurate\n",
    "def find_worst_read(sequence_reads, qualities):\n",
    "    #tuple of phred_score and index of quality\n",
    "    worst_score = (99999999, -1)\n",
    "\n",
    "    for i in range(len(qualities)):\n",
    "        phred_score = 0\n",
    "        \n",
    "        #ord() function allows us to convert character into its ascii value\n",
    "        for char in qualities[i]:\n",
    "            #q score is ascii score - 33\n",
    "            q = ord(char) - 33\n",
    "            phred_score += q\n",
    "        \n",
    "        #if the current read's score is worse than the worst one so far, replace\n",
    "        if phred_score < worst_score[0]:\n",
    "            worst_score = (phred_score, i)\n",
    "        \n",
    "        #reset phred_score\n",
    "        phred_score = 0\n",
    "    \n",
    "    worst_read = sequence_reads[worst_score[1]]\n",
    "    return worst_read\n",
    "\n",
    "worst_read = find_worst_read(sequence_reads, qualities)\n",
    "print(f'The worst read in the TeleTubby genome is \\'{worst_read}\\'.')"
   ]
  },
  {
   "cell_type": "markdown",
   "id": "9d9abeb9",
   "metadata": {},
   "source": [
    "Note: For the following problems, you can ignore the read quality scores, and safely assume there are no actual errors in the provided TeleTubby reads."
   ]
  },
  {
   "cell_type": "markdown",
   "id": "8e55395f",
   "metadata": {},
   "source": [
    "## Frequency analysis\n",
    "\n",
    "Looking at repetitions in the sequence can be helpful in estimating the \"redudancy\" in the organisms. Eucaryote genomes have a lot of redundancy, while smaller organisms like bacteria have highly packed genomes. One heuristic to estimate this before actually performing the assembly could be looking at how often certain $k$-mers are repeated.\n",
    "\n",
    "<div class=\"alert alert-success\">\n",
    "    \n",
    "**Problem 3.**\n",
    "    Print out the 3 most frequent <em>k</em>-mers in the TeleTubby reads with their frequencies. (As in Problem 1, doing this from the reads only produces the same result as from the genome if the read coverage is equal everywhere, but it should be a close estimate.)\n",
    "</div>"
   ]
  },
  {
   "cell_type": "code",
   "execution_count": 8,
   "id": "bdbd6bc8",
   "metadata": {},
   "outputs": [
    {
     "name": "stdout",
     "output_type": "stream",
     "text": [
      "The top 3 most frequent k-mers are: [('ATGATGAT', 3), ('GATGATGA', 2), ('TGATGATG', 2)]\n"
     ]
    }
   ],
   "source": [
    "from collections import defaultdict\n",
    "\n",
    "def get_frequent_kmers(sequence_reads, n=3):\n",
    "    freqs = defaultdict(int)\n",
    "    for read in sequence_reads:\n",
    "        freqs[read]+=1\n",
    "    sorted_kmers = sorted(freqs, key=freqs.get, reverse=True)\n",
    "    \n",
    "    # tuples of (read, frequency)\n",
    "    top_n = []\n",
    "    for i in range(n):\n",
    "        top_n.append((sorted_kmers[i], freqs[sorted_kmers[i]]))\n",
    "    return top_n\n",
    "    \n",
    "top_3_kmers = get_frequent_kmers(sequence_reads)\n",
    "print(f\"The top 3 most frequent k-mers are: {top_3_kmers}\")"
   ]
  },
  {
   "cell_type": "markdown",
   "id": "728a612b",
   "metadata": {},
   "source": [
    "## Greedy Assembly"
   ]
  },
  {
   "cell_type": "markdown",
   "id": "36c041ab",
   "metadata": {},
   "source": [
    "Given a set of sequence fragments, the objective of assembly can be viewed as finding the shortest sequence that contains all the fragments.\n",
    "\n",
    "One of the approaches to assemble the genome from the given reads is a greedy algorithm:\n",
    "\n",
    "```\n",
    "while (len(fragments) > 1):\n",
    "   calculate pairwise alignments of all pairs of fragments\n",
    "   merge the two fragments with the largest overlap\n",
    "genome = fragment[0] # the single remaining fragment is the genome\n",
    "```\n"
   ]
  },
  {
   "cell_type": "markdown",
   "id": "35f6e176",
   "metadata": {},
   "source": [
    "<div class=\"alert alert-success\">\n",
    "    \n",
    "**Problem 4 (a)**. What would the runtime be of this algorithm, given $n$ $k$-mer reads? (If you are not sure how to express your answer to this question, review [_Cost of Computation_](https://computingbiology.github.io/complexity/).)\n",
    "    </div>"
   ]
  },
  {
   "cell_type": "markdown",
   "id": "93985b9f",
   "metadata": {},
   "source": [
    "<i>Answer</i>:\n",
    "\n",
    "The overall runtime of this algorithm would be $O(n^3)$. At each step, calculating the pairwise alignment requires matching up $n^2$ or fewer reads, for each of which we do a constant amount of work (since $k$ is a constant). We also only remove one read from the sequence at each step of the algorithm, which means the outer `while` loop will always run $n$ times. Since we have $O(n^2)$ work nested in a $O(n)$ loop, the overall runtime is in $O(n^3)$."
   ]
  },
  {
   "cell_type": "markdown",
   "id": "6d868a87",
   "metadata": {},
   "source": [
    "<div class=\"alert alert-success\">\n",
    "\n",
    "**Problem 4 (b)**. Is this algorithm guaranteed to find the correct genome? (A good answer will define what _correct_ means here, and explain why the algorithm is or is not guaranteed to find it.)"
   ]
  },
  {
   "cell_type": "markdown",
   "id": "12bfc75b",
   "metadata": {},
   "source": [
    "<i>Answer</i>:\n",
    "\n",
    "We can define the _correct genome_ in this context as the genome which is most likely encoded in the DNA of the organism that is being sequenced. This algorithm is not guaranteed to find the correct genome. In the human genome, we know that there are often long sequences of repeated nucleotides. If our value of $k$ was not large enough to span these regions, we could produce reads from these regions that are identical. Our algorithm would then greedily merge these reads into one $k$-mer, even though the real genome has multiple repetitions of this $k$-mer. Therefore, our algorithm is not guaranteed to produce the most likely target genome."
   ]
  },
  {
   "cell_type": "markdown",
   "id": "44685e7e",
   "metadata": {},
   "source": [
    "## Graph-based Assembly"
   ]
  },
  {
   "cell_type": "markdown",
   "id": "c9d33cc7",
   "metadata": {},
   "source": [
    "Graphs for genome assembly can be constructed in two ways:\n",
    "\n",
    "- de Bruijn graph: Processing $k-$mers as edges, with $(k-1)-$mers as nodes, and\n",
    "- Overlap graph: Processing $k-$mers as nodes, with $(k-1)-$mers as edges.\n",
    "\n",
    "A de Bruijn graph can be processed to find Euler paths, while Overlap graphs can be processed to find Hamiltonian paths. Both of these methods can be used reconstruct the original genome.\n",
    "\n",
    "<div class=\"alert alert-success\">\n",
    "    \n",
    "**Problem 5.**  Use one of these two techniques to reconstruct the TeleTubby genome from the provided sequence reads. \n",
    "    \n",
    "</div>\n",
    "    \n",
    "We have provided some template code below that may be helpful (but feel free to ignore this is you prefer)."
   ]
  },
  {
   "cell_type": "code",
   "execution_count": 123,
   "id": "c50bc332",
   "metadata": {},
   "outputs": [],
   "source": [
    "# Read reads into graph\n",
    "\n",
    "def build_graph(k_mers):\n",
    "    edges = [] # tuples of (from, to)\n",
    "    nodes = set() \n",
    "    \n",
    "    for read in k_mers:\n",
    "        prefix = read[:-1]\n",
    "        suffix = read[1:]\n",
    "        \n",
    "        nodes.add(prefix)\n",
    "        nodes.add(suffix)\n",
    "        edges.append((prefix, suffix))\n",
    "    \n",
    "    return nodes, edges"
   ]
  },
  {
   "cell_type": "code",
   "execution_count": 124,
   "id": "f60e36d1",
   "metadata": {},
   "outputs": [],
   "source": [
    "nodes, edges = build_graph(sequence_reads)\n",
    "\n",
    "# This test case is pulled from Bioinformatics Algorithms cp 3.4, see text for desired graph output.\n",
    "# test_case = [\"TAA\", \"AAT\", \"ATG\", \"TGC\", \"GCC\", \"CCA\", \"CAT\", \"ATG\", \"TGG\", \"GGG\", \"GGA\", \"GAT\", \"ATG\", \"TGT\", \"GTT\"]\n",
    "# nodes, edges = build_graph(test_case)"
   ]
  },
  {
   "cell_type": "code",
   "execution_count": 19,
   "id": "93131d20",
   "metadata": {},
   "outputs": [
    {
     "name": "stdout",
     "output_type": "stream",
     "text": [
      "The gvmagic extension is already loaded. To reload it, use:\n",
      "  %reload_ext gvmagic\n"
     ]
    }
   ],
   "source": [
    "# Needed to properly visualize graphs\n",
    "%load_ext gvmagic"
   ]
  },
  {
   "cell_type": "code",
   "execution_count": 79,
   "id": "a238b91e",
   "metadata": {},
   "outputs": [
    {
     "data": {
      "image/svg+xml": [
       "<svg height=\"476pt\" viewBox=\"0.00 0.00 260.00 476.00\" width=\"260pt\" xmlns=\"http://www.w3.org/2000/svg\" xmlns:xlink=\"http://www.w3.org/1999/xlink\">\n",
       "<g class=\"graph\" id=\"graph0\" transform=\"scale(1 1) rotate(0) translate(4 472)\">\n",
       "<title>Assembly graph</title>\n",
       "<polygon fill=\"#ffffff\" points=\"-4,4 -4,-472 255.9992,-472 255.9992,4 -4,4\" stroke=\"transparent\"/>\n",
       "<!-- TA -->\n",
       "<g class=\"node\" id=\"node1\">\n",
       "<title>TA</title>\n",
       "<ellipse cx=\"171\" cy=\"-450\" fill=\"none\" rx=\"27\" ry=\"18\" stroke=\"#000000\"/>\n",
       "<text fill=\"#000000\" font-family=\"Times,serif\" font-size=\"14.00\" text-anchor=\"middle\" x=\"171\" y=\"-446.3\">TA</text>\n",
       "</g>\n",
       "<!-- AA -->\n",
       "<g class=\"node\" id=\"node2\">\n",
       "<title>AA</title>\n",
       "<ellipse cx=\"171\" cy=\"-378\" fill=\"none\" rx=\"27\" ry=\"18\" stroke=\"#000000\"/>\n",
       "<text fill=\"#000000\" font-family=\"Times,serif\" font-size=\"14.00\" text-anchor=\"middle\" x=\"171\" y=\"-374.3\">AA</text>\n",
       "</g>\n",
       "<!-- TA&#45;&gt;AA -->\n",
       "<g class=\"edge\" id=\"edge1\">\n",
       "<title>TA-&gt;AA</title>\n",
       "<path d=\"M171,-431.8314C171,-424.131 171,-414.9743 171,-406.4166\" fill=\"none\" stroke=\"#000000\"/>\n",
       "<polygon fill=\"#000000\" points=\"174.5001,-406.4132 171,-396.4133 167.5001,-406.4133 174.5001,-406.4132\" stroke=\"#000000\"/>\n",
       "</g>\n",
       "<!-- AT -->\n",
       "<g class=\"node\" id=\"node3\">\n",
       "<title>AT</title>\n",
       "<ellipse cx=\"171\" cy=\"-306\" fill=\"none\" rx=\"27\" ry=\"18\" stroke=\"#000000\"/>\n",
       "<text fill=\"#000000\" font-family=\"Times,serif\" font-size=\"14.00\" text-anchor=\"middle\" x=\"171\" y=\"-302.3\">AT</text>\n",
       "</g>\n",
       "<!-- AA&#45;&gt;AT -->\n",
       "<g class=\"edge\" id=\"edge2\">\n",
       "<title>AA-&gt;AT</title>\n",
       "<path d=\"M171,-359.8314C171,-352.131 171,-342.9743 171,-334.4166\" fill=\"none\" stroke=\"#000000\"/>\n",
       "<polygon fill=\"#000000\" points=\"174.5001,-334.4132 171,-324.4133 167.5001,-334.4133 174.5001,-334.4132\" stroke=\"#000000\"/>\n",
       "</g>\n",
       "<!-- TG -->\n",
       "<g class=\"node\" id=\"node4\">\n",
       "<title>TG</title>\n",
       "<ellipse cx=\"171\" cy=\"-234\" fill=\"none\" rx=\"27\" ry=\"18\" stroke=\"#000000\"/>\n",
       "<text fill=\"#000000\" font-family=\"Times,serif\" font-size=\"14.00\" text-anchor=\"middle\" x=\"171\" y=\"-230.3\">TG</text>\n",
       "</g>\n",
       "<!-- AT&#45;&gt;TG -->\n",
       "<g class=\"edge\" id=\"edge3\">\n",
       "<title>AT-&gt;TG</title>\n",
       "<path d=\"M159.4784,-289.6621C157.565,-281.1306 157.0395,-270.474 157.9019,-260.7753\" fill=\"none\" stroke=\"#000000\"/>\n",
       "<polygon fill=\"#000000\" points=\"161.3804,-261.1776 159.3824,-250.7729 154.4558,-260.1526 161.3804,-261.1776\" stroke=\"#000000\"/>\n",
       "</g>\n",
       "<!-- AT&#45;&gt;TG -->\n",
       "<g class=\"edge\" id=\"edge8\">\n",
       "<title>AT-&gt;TG</title>\n",
       "<path d=\"M171,-287.8314C171,-280.131 171,-270.9743 171,-262.4166\" fill=\"none\" stroke=\"#000000\"/>\n",
       "<polygon fill=\"#000000\" points=\"174.5001,-262.4132 171,-252.4133 167.5001,-262.4133 174.5001,-262.4132\" stroke=\"#000000\"/>\n",
       "</g>\n",
       "<!-- AT&#45;&gt;TG -->\n",
       "<g class=\"edge\" id=\"edge13\">\n",
       "<title>AT-&gt;TG</title>\n",
       "<path d=\"M182.5216,-289.6621C184.435,-281.1306 184.9605,-270.474 184.0981,-260.7753\" fill=\"none\" stroke=\"#000000\"/>\n",
       "<polygon fill=\"#000000\" points=\"187.5442,-260.1526 182.6176,-250.7729 180.6196,-261.1776 187.5442,-260.1526\" stroke=\"#000000\"/>\n",
       "</g>\n",
       "<!-- GC -->\n",
       "<g class=\"node\" id=\"node5\">\n",
       "<title>GC</title>\n",
       "<ellipse cx=\"99\" cy=\"-162\" fill=\"none\" rx=\"27\" ry=\"18\" stroke=\"#000000\"/>\n",
       "<text fill=\"#000000\" font-family=\"Times,serif\" font-size=\"14.00\" text-anchor=\"middle\" x=\"99\" y=\"-158.3\">GC</text>\n",
       "</g>\n",
       "<!-- TG&#45;&gt;GC -->\n",
       "<g class=\"edge\" id=\"edge4\">\n",
       "<title>TG-&gt;GC</title>\n",
       "<path d=\"M155.7307,-218.7307C145.803,-208.803 132.6847,-195.6847 121.5637,-184.5637\" fill=\"none\" stroke=\"#000000\"/>\n",
       "<polygon fill=\"#000000\" points=\"123.7933,-181.8436 114.2473,-177.2473 118.8436,-186.7933 123.7933,-181.8436\" stroke=\"#000000\"/>\n",
       "</g>\n",
       "<!-- GG -->\n",
       "<g class=\"node\" id=\"node8\">\n",
       "<title>GG</title>\n",
       "<ellipse cx=\"171\" cy=\"-162\" fill=\"none\" rx=\"27\" ry=\"18\" stroke=\"#000000\"/>\n",
       "<text fill=\"#000000\" font-family=\"Times,serif\" font-size=\"14.00\" text-anchor=\"middle\" x=\"171\" y=\"-158.3\">GG</text>\n",
       "</g>\n",
       "<!-- TG&#45;&gt;GG -->\n",
       "<g class=\"edge\" id=\"edge9\">\n",
       "<title>TG-&gt;GG</title>\n",
       "<path d=\"M171,-215.8314C171,-208.131 171,-198.9743 171,-190.4166\" fill=\"none\" stroke=\"#000000\"/>\n",
       "<polygon fill=\"#000000\" points=\"174.5001,-190.4132 171,-180.4133 167.5001,-190.4133 174.5001,-190.4132\" stroke=\"#000000\"/>\n",
       "</g>\n",
       "<!-- GT -->\n",
       "<g class=\"node\" id=\"node10\">\n",
       "<title>GT</title>\n",
       "<ellipse cx=\"27\" cy=\"-162\" fill=\"none\" rx=\"27\" ry=\"18\" stroke=\"#000000\"/>\n",
       "<text fill=\"#000000\" font-family=\"Times,serif\" font-size=\"14.00\" text-anchor=\"middle\" x=\"27\" y=\"-158.3\">GT</text>\n",
       "</g>\n",
       "<!-- TG&#45;&gt;GT -->\n",
       "<g class=\"edge\" id=\"edge14\">\n",
       "<title>TG-&gt;GT</title>\n",
       "<path d=\"M149.1295,-223.0647C124.7778,-210.8889 85.238,-191.119 57.7715,-177.3858\" fill=\"none\" stroke=\"#000000\"/>\n",
       "<polygon fill=\"#000000\" points=\"59.114,-174.1439 48.6045,-172.8022 55.9835,-180.4049 59.114,-174.1439\" stroke=\"#000000\"/>\n",
       "</g>\n",
       "<!-- CC -->\n",
       "<g class=\"node\" id=\"node6\">\n",
       "<title>CC</title>\n",
       "<ellipse cx=\"127\" cy=\"-90\" fill=\"none\" rx=\"27\" ry=\"18\" stroke=\"#000000\"/>\n",
       "<text fill=\"#000000\" font-family=\"Times,serif\" font-size=\"14.00\" text-anchor=\"middle\" x=\"127\" y=\"-86.3\">CC</text>\n",
       "</g>\n",
       "<!-- GC&#45;&gt;CC -->\n",
       "<g class=\"edge\" id=\"edge5\">\n",
       "<title>GC-&gt;CC</title>\n",
       "<path d=\"M105.778,-144.5708C108.9872,-136.3187 112.8935,-126.2738 116.4758,-117.0623\" fill=\"none\" stroke=\"#000000\"/>\n",
       "<polygon fill=\"#000000\" points=\"119.8248,-118.1069 120.1874,-107.5182 113.3008,-115.5697 119.8248,-118.1069\" stroke=\"#000000\"/>\n",
       "</g>\n",
       "<!-- CA -->\n",
       "<g class=\"node\" id=\"node7\">\n",
       "<title>CA</title>\n",
       "<ellipse cx=\"204\" cy=\"-18\" fill=\"none\" rx=\"27\" ry=\"18\" stroke=\"#000000\"/>\n",
       "<text fill=\"#000000\" font-family=\"Times,serif\" font-size=\"14.00\" text-anchor=\"middle\" x=\"204\" y=\"-14.3\">CA</text>\n",
       "</g>\n",
       "<!-- CC&#45;&gt;CA -->\n",
       "<g class=\"edge\" id=\"edge6\">\n",
       "<title>CC-&gt;CA</title>\n",
       "<path d=\"M142.9544,-75.0816C153.795,-64.945 168.3176,-51.3654 180.4782,-39.9944\" fill=\"none\" stroke=\"#000000\"/>\n",
       "<polygon fill=\"#000000\" points=\"183.1522,-42.2858 188.066,-32.8993 178.3712,-37.1728 183.1522,-42.2858\" stroke=\"#000000\"/>\n",
       "</g>\n",
       "<!-- CA&#45;&gt;AT -->\n",
       "<g class=\"edge\" id=\"edge7\">\n",
       "<title>CA-&gt;AT</title>\n",
       "<path d=\"M220.669,-32.1852C231.003,-42.1296 243.35,-56.3945 249,-72 254.4468,-87.0443 250.1032,-92.0381 249,-108 244.5361,-172.5885 257.1471,-194.7046 227,-252 220.0339,-265.2392 208.6122,-277.1311 197.8947,-286.3631\" fill=\"none\" stroke=\"#000000\"/>\n",
       "<polygon fill=\"#000000\" points=\"195.4475,-283.843 189.9217,-292.8827 199.8786,-289.262 195.4475,-283.843\" stroke=\"#000000\"/>\n",
       "</g>\n",
       "<!-- GG&#45;&gt;GG -->\n",
       "<g class=\"edge\" id=\"edge10\">\n",
       "<title>GG-&gt;GG</title>\n",
       "<path d=\"M190.895,-174.4321C203.688,-177.6753 216,-173.5313 216,-162 216,-153.6218 209.5006,-149.1433 201.0395,-148.5644\" fill=\"none\" stroke=\"#000000\"/>\n",
       "<polygon fill=\"#000000\" points=\"200.5019,-145.1004 190.895,-149.5679 201.191,-152.0665 200.5019,-145.1004\" stroke=\"#000000\"/>\n",
       "</g>\n",
       "<!-- GA -->\n",
       "<g class=\"node\" id=\"node9\">\n",
       "<title>GA</title>\n",
       "<ellipse cx=\"213\" cy=\"-90\" fill=\"none\" rx=\"27\" ry=\"18\" stroke=\"#000000\"/>\n",
       "<text fill=\"#000000\" font-family=\"Times,serif\" font-size=\"14.00\" text-anchor=\"middle\" x=\"213\" y=\"-86.3\">GA</text>\n",
       "</g>\n",
       "<!-- GG&#45;&gt;GA -->\n",
       "<g class=\"edge\" id=\"edge11\">\n",
       "<title>GG-&gt;GA</title>\n",
       "<path d=\"M180.9534,-144.937C186.0271,-136.2393 192.3034,-125.4799 197.953,-115.7948\" fill=\"none\" stroke=\"#000000\"/>\n",
       "<polygon fill=\"#000000\" points=\"201.1025,-117.3419 203.118,-106.9405 195.056,-113.8148 201.1025,-117.3419\" stroke=\"#000000\"/>\n",
       "</g>\n",
       "<!-- GA&#45;&gt;AT -->\n",
       "<g class=\"edge\" id=\"edge12\">\n",
       "<title>GA-&gt;AT</title>\n",
       "<path d=\"M217.994,-107.8355C220.6587,-118.2807 223.6587,-131.7807 225,-144 226.7459,-159.9045 226.9549,-164.1199 225,-180 220.9698,-212.7377 220.3441,-221.8349 207,-252 202.4873,-262.2011 196.0811,-272.5881 189.9207,-281.4916\" fill=\"none\" stroke=\"#000000\"/>\n",
       "<polygon fill=\"#000000\" points=\"186.9156,-279.6757 183.9215,-289.8387 192.5998,-283.7611 186.9156,-279.6757\" stroke=\"#000000\"/>\n",
       "</g>\n",
       "<!-- TT -->\n",
       "<g class=\"node\" id=\"node11\">\n",
       "<title>TT</title>\n",
       "<ellipse cx=\"27\" cy=\"-90\" fill=\"none\" rx=\"27\" ry=\"18\" stroke=\"#000000\"/>\n",
       "<text fill=\"#000000\" font-family=\"Times,serif\" font-size=\"14.00\" text-anchor=\"middle\" x=\"27\" y=\"-86.3\">TT</text>\n",
       "</g>\n",
       "<!-- GT&#45;&gt;TT -->\n",
       "<g class=\"edge\" id=\"edge15\">\n",
       "<title>GT-&gt;TT</title>\n",
       "<path d=\"M27,-143.8314C27,-136.131 27,-126.9743 27,-118.4166\" fill=\"none\" stroke=\"#000000\"/>\n",
       "<polygon fill=\"#000000\" points=\"30.5001,-118.4132 27,-108.4133 23.5001,-118.4133 30.5001,-118.4132\" stroke=\"#000000\"/>\n",
       "</g>\n",
       "</g>\n",
       "</svg>"
      ],
      "text/plain": [
       "<IPython.core.display.SVG object>"
      ]
     },
     "metadata": {},
     "output_type": "display_data"
    }
   ],
   "source": [
    "# Helper function to visualize graphs\n",
    "%dotstr utils.viz_graph(nodes, edges)"
   ]
  },
  {
   "cell_type": "code",
   "execution_count": 133,
   "id": "3c4f6bfc",
   "metadata": {},
   "outputs": [],
   "source": [
    "# Main assembly algorithm - find a Euler path (use every edge once) in the graph!\n",
    "# Let's assume that the graph is nearly balanced and strongly connected\n",
    "\n",
    "\n",
    "def assemble_sequence(nodes, edges):\n",
    "    edges = edges.copy()\n",
    "    \n",
    "    # First we need to fully balance the graph. Since our dataset is nice, we can assume that whatever two nodes\n",
    "    # that are unbalanced should be joined.\n",
    "    inout_degrees = defaultdict(int)\n",
    "    for start, end in edges:\n",
    "        inout_degrees[start]-=1\n",
    "        inout_degrees[end]+=1\n",
    "    \n",
    "    begin = \"\"\n",
    "    end = \"\"\n",
    "    for node, degree in inout_degrees.items():\n",
    "        if degree == -1:\n",
    "            begin = node\n",
    "        elif degree == 1:\n",
    "            end = node\n",
    "    # Add the final edge needed for a Eulerian cycle\n",
    "    edges.append((end, begin))\n",
    "    \n",
    "    # Now we can run the algorithm for finding a Eulerian cycle and reconstruct the string from there.\n",
    "    path = []\n",
    "    assembled_sequence = \"\"\n",
    "    def dfs(current_node):\n",
    "        for from_node, to_node in edges:\n",
    "            if from_node == current_node:\n",
    "                edges.remove((from_node, to_node))\n",
    "                dfs(to_node)\n",
    "                                \n",
    "        path.append(current_node)\n",
    "        \n",
    "    dfs(begin)\n",
    "    path.reverse()\n",
    "    del path[len(path)-1]\n",
    "    print(path)\n",
    "    for k1mer in path:\n",
    "        assembled_sequence += k1mer[0]\n",
    "    assembled_sequence += k1mer[-1][0]\n",
    "    \n",
    "    return assembled_sequence"
   ]
  },
  {
   "cell_type": "code",
   "execution_count": 134,
   "id": "a5b1b2e3",
   "metadata": {},
   "outputs": [
    {
     "name": "stdout",
     "output_type": "stream",
     "text": [
      "['CTCGAAT', 'TCGAATC', 'CGAATCG', 'GAATCGT', 'AATCGTA', 'ATCGTAA', 'TCGTAAA', 'CGTAAAC', 'GTAAACG', 'TAAACGT', 'AAACGTG', 'AACGTGT', 'ACGTGTG', 'CGTGTGA', 'GTGTGAA', 'TGTGAAT', 'GTGAATG', 'TGAATGT', 'GAATGTG', 'AATGTGT', 'ATGTGTG', 'TGTGTGA', 'GTGTGAT', 'TGTGATA', 'GTGATAT', 'TGATATG', 'GATATGA', 'ATATGAT', 'TATGATG', 'ATGATGA', 'TGATGAT', 'GATGATT', 'ATGATTG', 'TGATTGA', 'GATTGAT', 'ATTGATG', 'TTGATGA', 'TGATGAG', 'GATGAGT', 'ATGAGTC', 'TGAGTCC', 'GAGTCCG', 'AGTCCGA', 'GTCCGAT', 'TCCGATA', 'CCGATAC', 'CGATACG', 'GATACGG', 'ATACGGG', 'TACGGGC', 'ACGGGCG', 'CGGGCGG', 'GGGCGGA', 'GGCGGAT', 'GCGGATT', 'CGGATTC', 'GGATTCT', 'GATTCTG', 'ATTCTGA', 'TTCTGAC', 'TCTGACG', 'CTGACGC', 'TGACGCA', 'GACGCAA', 'ACGCAAA', 'CGCAAAG', 'GCAAAGC', 'CAAAGCA', 'AAAGCAT', 'AAGCATC', 'AGCATCA', 'GCATCAC', 'CATCACC', 'ATCACCC', 'TCACCCC', 'CACCCCG', 'ACCCCGT', 'CCCCGTC', 'CCCGTCG', 'CCGTCGG', 'CGTCGGG', 'GTCGGGG', 'TCGGGGT', 'CGGGGTA', 'GGGGTAA', 'GGGTAAA', 'GGTAAAA', 'GTAAAAG', 'TAAAAGA', 'AAAAGAG', 'AAAGAGC', 'AAGAGCC', 'AGAGCCT', 'GAGCCTG', 'AGCCTGA', 'GCCTGAC', 'CCTGACG', 'CTGACGA', 'TGACGAC', 'GACGACC', 'ACGACCG', 'CGACCGT', 'GACCGTG', 'ACCGTGA', 'CCGTGAG', 'CGTGAGC', 'GTGAGCA', 'TGAGCAT', 'GAGCATA', 'AGCATAT', 'GCATATG', 'CATATGT', 'ATATGTC', 'TATGTCA', 'ATGTCAG', 'TGTCAGC', 'GTCAGCA', 'TCAGCAT', 'CAGCATT', 'AGCATTT', 'GCATTTA', 'CATTTAC', 'ATTTACC', 'TTTACCG', 'TTACCGG', 'TACCGGC', 'ACCGGCG', 'CCGGCGT', 'CGGCGTT', 'GGCGTTG', 'GCGTTGC', 'CGTTGCT', 'GTTGCTC', 'TTGCTCC', 'TGCTCCC', 'GCTCCCG', 'CTCCCGA', 'TCCCGAC', 'CCCGACT', 'CCGACTT', 'CGACTTG', 'GACTTGT', 'ACTTGTG', 'CTTGTGC', 'TTGTGCT', 'TGTGCTC', 'GTGCTCA', 'TGCTCAC', 'GCTCACC', 'CTCACCT', 'TCACCTG', 'CACCTGA', 'ACCTGAC', 'CCTGACA', 'CTGACAA', 'TGACAAC', 'GACAACA', 'ACAACAT', 'CAACATT', 'AACATTA', 'ACATTAG', 'CATTAGG', 'ATTAGGC', 'TTAGGCA', 'TAGGCAG', 'AGGCAGG', 'GGCAGGA', 'GCAGGAT', 'CAGGATA', 'AGGATAA', 'GGATAAG', 'GATAAGC', 'ATAAGCT', 'TAAGCTT', 'AAGCTTA', 'AGCTTAT', 'GCTTATG', 'CTTATGA', 'TTATGAG', 'TATGAGA', 'ATGAGAT', 'TGAGATG', 'GAGATGA', 'AGATGAC', 'GATGACG', 'ATGACGC', 'TGACGCC', 'GACGCCC', 'ACGCCCC', 'CGCCCCC', 'GCCCCCC', 'CCCCCCC', 'CCCCCCA', 'CCCCCAG', 'CCCCAGT', 'CCCAGTG', 'CCAGTGG', 'CAGTGGT', 'AGTGGTC', 'GTGGTCA', 'TGGTCAG', 'GGTCAGA', 'GTCAGAT', 'TCAGATT', 'CAGATTT', 'AGATTTC', 'GATTTCC', 'ATTTCCA', 'TTTCCAT', 'TTCCATC', 'TCCATCC', 'CCATCCC', 'CATCCCT', 'ATCCCTG', 'TCCCTGA', 'CCCTGAG', 'CCTGAGG', 'CTGAGGA', 'TGAGGAT', 'GAGGATT', 'AGGATTT', 'GGATTTC', 'GATTTCG', 'ATTTCGG', 'TTTCGGT', 'TTCGGTA', 'TCGGTAG', 'CGGTAGG', 'GGTAGGA', 'GTAGGAC', 'TAGGACA', 'AGGACAA', 'GGACAAT', 'GACAATT', 'ACAATTT', 'CAATTTA', 'AATTTAC', 'ATTTACC', 'TTTACCC', 'TTACCCA', 'TACCCAT', 'ACCCATC', 'CCCATCG', 'CCATCGC', 'CATCGCG', 'ATCGCGC', 'TCGCGCG', 'CGCGCGC', 'GCGCGCC', 'CGCGCCA', 'GCGCCAG', 'CGCCAGG', 'GCCAGGG', 'CCAGGGG', 'CAGGGGT', 'AGGGGTC', 'GGGGTCG', 'GGGTCGT', 'GGTCGTA', 'GTCGTAG', 'TCGTAGG', 'CGTAGGT', 'GTAGGTA', 'TAGGTAG', 'AGGTAGA', 'GGTAGAA', 'GTAGAAT', 'TAGAATT', 'AGAATTG', 'GAATTGC', 'AATTGCT', 'ATTGCTC', 'TTGCTCG', 'TGCTCGG', 'GCTCGGA', 'CTCGGAG', 'TCGGAGC', 'CGGAGCC', 'GGAGCCA', 'GAGCCAC', 'AGCCACC', 'GCCACCA', 'CCACCAG', 'CACCAGA', 'ACCAGAC', 'CCAGACC', 'CAGACCT', 'AGACCTG']\n",
      "Assembled genome:\n",
      " CTCGAATCGTAAACGTGTGAATGTGTGATATGATGATTGATGAGTCCGATACGGGCGGATTCTGACGCAAAGCATCACCCCGTCGGGGTAAAAGAGCCTGACGACCGTGAGCATATGTCAGCATTTACCGGCGTTGCTCCCGACTTGTGCTCACCTGACAACATTAGGCAGGATAAGCTTATGAGATGACGCCCCCCCAGTGGTCAGATTTCCATCCCTGAGGATTTCGGTAGGACAATTTACCCATCGCGCGCCAGGGGTCGTAGGTAGAATTGCTCGGAGCCACCAG\n"
     ]
    },
    {
     "ename": "AssertionError",
     "evalue": "",
     "output_type": "error",
     "traceback": [
      "\u001b[0;31m---------------------------------------------------------------------------\u001b[0m",
      "\u001b[0;31mAssertionError\u001b[0m                            Traceback (most recent call last)",
      "\u001b[0;32m<ipython-input-134-b5448939cdc5>\u001b[0m in \u001b[0;36m<module>\u001b[0;34m\u001b[0m\n\u001b[1;32m      5\u001b[0m \u001b[0;34m\u001b[0m\u001b[0m\n\u001b[1;32m      6\u001b[0m \u001b[0mprint\u001b[0m\u001b[0;34m(\u001b[0m\u001b[0;34mf\"Assembled genome:\\n {assembled_seq}\"\u001b[0m\u001b[0;34m)\u001b[0m\u001b[0;34m\u001b[0m\u001b[0;34m\u001b[0m\u001b[0m\n\u001b[0;32m----> 7\u001b[0;31m \u001b[0;32massert\u001b[0m\u001b[0;34m(\u001b[0m\u001b[0mlen\u001b[0m\u001b[0;34m(\u001b[0m\u001b[0massembled_seq\u001b[0m\u001b[0;34m)\u001b[0m \u001b[0;34m==\u001b[0m \u001b[0;36m300\u001b[0m\u001b[0;34m)\u001b[0m\u001b[0;34m\u001b[0m\u001b[0;34m\u001b[0m\u001b[0m\n\u001b[0m",
      "\u001b[0;31mAssertionError\u001b[0m: "
     ]
    }
   ],
   "source": [
    "# Output assembled sequence\n",
    "# Hint: Sequence is 300 nucleotides long\n",
    "\n",
    "assembled_seq = assemble_sequence(nodes, edges)\n",
    "\n",
    "print(f\"Assembled genome:\\n {assembled_seq}\")\n",
    "assert(len(assembled_seq) == 300)"
   ]
  },
  {
   "cell_type": "markdown",
   "id": "91454973",
   "metadata": {},
   "source": [
    "<div class=\"alert alert-success\"> \n",
    "    \n",
    "**Problem 6.** Which of the two assembly methods did you use for problem 5, and why? (Hint: consider how the costs scale with the number of reads.)\n",
    "    \n",
    "</div>\n",
    "\n",
    "To assemble the genome, we chose to find an Euler path in the de Bruijn graph instead of a Hamiltonian path in the overlap graph. As discussed in _Bioinformatics Algorithms_, finding a Hamiltonian path is a NP-Complete problem, so it's currently unknown how to solve it in polynomial time. We do have some nice polynomial time algorithms for finding the Euler paths, so we chose to solve that problem to have better asymptotic time complexity. "
   ]
  },
  {
   "cell_type": "markdown",
   "id": "9c68ae0c",
   "metadata": {},
   "source": [
    "## Part 2: Sequencing SARS-CoV-2 virus"
   ]
  },
  {
   "cell_type": "markdown",
   "id": "bb9104f8",
   "metadata": {},
   "source": [
    "Let's move on from TeleTubbies to real-world organisms. For this problem, you'll assemble a genome for a variant of the SARS-CoV-2 virus. You're given reads from <i>actual</i> genome sequencing runs in the provided `SARS-CoV2.fastq` file. The file is based on the first Covid genome that was submitted on 5 January 2020: [https://www.ncbi.nlm.nih.gov/nuccore/NC_045512](https://www.ncbi.nlm.nih.gov/nuccore/NC_045512) But, you should be reconstructing a sequence from the provided reads without looking at the source sequence.\n",
    "\n",
    "<div class=\"alert alert-success\">\n",
    "    \n",
    "**Problem 7.**  Reconstruct the SATS-CoV2 genome from the provided sequence reads using $k=25$. \n",
    "    \n",
    "</div>\n",
    "\n",
    "You can re-use your implementation from Problem 5 and simply run it on the new data (depending on what you did for Problem 5, that might be enough to solve this problem). \n",
    "\n",
    "Print out your reconstructed sequence to a file `output.txt` (and add this file to the repo you submit). For this part, we will still assume that all the reads are error-free. "
   ]
  },
  {
   "cell_type": "code",
   "execution_count": null,
   "id": "490daca9",
   "metadata": {},
   "outputs": [],
   "source": [
    "# Read sequence reads\n",
    "sequence_reads_covid, qualities_covid = utils.read_fastq('SARS-CoV2.fastq')"
   ]
  },
  {
   "cell_type": "code",
   "execution_count": null,
   "id": "3dfbe110",
   "metadata": {},
   "outputs": [],
   "source": [
    "# Read reads into graph\n",
    "nodes_covid, edges_covid = build_graph(sequence_reads_covid)"
   ]
  },
  {
   "cell_type": "code",
   "execution_count": null,
   "id": "011414e6",
   "metadata": {},
   "outputs": [],
   "source": [
    "# Call main assembly algorithm\n",
    "assmebled_covid_seq = assemble_sequence(nodes_covid, edges_covid)"
   ]
  },
  {
   "cell_type": "code",
   "execution_count": null,
   "id": "b8818bf5",
   "metadata": {},
   "outputs": [],
   "source": [
    "# Write assembled sequence to file\n",
    "with open(\"output.txt\", \"w\") as f:\n",
    "    f.write(assmebled_covid_seq)"
   ]
  },
  {
   "cell_type": "markdown",
   "id": "a3cc7d97",
   "metadata": {},
   "source": [
    "# Part 3: Error-Aware Assembly (Challenge Problem)"
   ]
  },
  {
   "cell_type": "markdown",
   "id": "9c03fa24",
   "metadata": {},
   "source": [
    "<div class=\"alert alert-warning\">\n",
    "    This problem is a \"Challenge Problem\". This means it is a problem of unknown difficulty that might be quite challenging (unlike the earlier problems, we don't have a reference solution for this one, or a clear idea how hard it might be). We do hope all students will at least attempt this and that more ambitious students will work hard to solve it and learn interesting things by the attempt (whether or not it is successful), but not get frustrated if you can't get to the desired answer.  As a \"Challenge Problem\" it means that you shouldn't be worried if you are not able to solve this, though, and you can get full expected credit on this assignment without answering it.\n",
    "</div>\n",
    "\n",
    "\n",
    "In the parts above, we assumed error-free reads while assembling $k$-mers. As much as we'd like that, actual reads can (and do) have errors, captured by their Phred scores. \n",
    "\n",
    "For this question, you're given raw, actual reads from sequencing runs. Download the reads from this file:\n",
    "https://sra-pub-sars-cov2.s3.amazonaws.com/sra-src/SRR11528307/ABS2-LN-R1_cleaned_paired.fastq.gz.  \n",
    "\n",
    "\n",
    "<div class=\"alert alert-success\">\n",
    "    \n",
    "**Problem 8 (Challenge).** Give the reads in the linked fastq file above, including their Phred33 quality score, assemble the most likely genome. Your solution should output the assembled sequence in `challenge.txt`. Provide a brief explantion of how your algorithm works and interesting things you learned in developing it.\n",
    "    \n",
    "</div>\n",
    "    \n",
    "This is an open-ended question. You are free to use any approach to deal with the issue. Make sure you provide your code, along with any assumptions you may have."
   ]
  },
  {
   "cell_type": "markdown",
   "id": "5d7e82e1",
   "metadata": {},
   "source": [
    "_Write a description of your algorithm, and things you learned from working on this here._"
   ]
  },
  {
   "cell_type": "code",
   "execution_count": null,
   "id": "4594e10b",
   "metadata": {},
   "outputs": [],
   "source": [
    "# implementation "
   ]
  },
  {
   "cell_type": "markdown",
   "id": "89a97c21",
   "metadata": {},
   "source": [
    "   <div class=\"alert alert-block alert-danger\">\n",
    "    <center>\n",
    "        \n",
    " **Remember to follow the submission directions above to submit your assignment by 4:59pm on Tuesday, 8 February.**\n",
    "    \n",
    " </center>\n",
    " </div>"
   ]
  }
 ],
 "metadata": {
  "kernelspec": {
   "display_name": "Python 3",
   "language": "python",
   "name": "python3"
  },
  "language_info": {
   "codemirror_mode": {
    "name": "ipython",
    "version": 3
   },
   "file_extension": ".py",
   "mimetype": "text/x-python",
   "name": "python",
   "nbconvert_exporter": "python",
   "pygments_lexer": "ipython3",
   "version": "3.6.9"
  }
 },
 "nbformat": 4,
 "nbformat_minor": 5
}
